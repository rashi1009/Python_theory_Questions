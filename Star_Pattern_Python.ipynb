{
  "cells": [
    {
      "cell_type": "code",
      "execution_count": null,
      "id": "bb27bf2a",
      "metadata": {
        "id": "bb27bf2a",
        "outputId": "5ebd4c38-113a-4a6d-b1e4-1f8281631ca8"
      },
      "outputs": [
        {
          "name": "stdout",
          "output_type": "stream",
          "text": [
            "* * * * * * \r\n",
            "* * * * * \r\n",
            "* * * * \r\n",
            "* * * \r\n",
            "* * \r\n",
            "* \r\n",
            "* * \r\n",
            "* * * \r\n",
            "* * * * \r\n",
            "* * * * * \r\n"
          ]
        }
      ],
      "source": [
        "def star_pattern(n):\n",
        "    for i in range(n,0,-1):\n",
        "        for j in range(0,i+1):\n",
        "            print(\"*\", end=' ')\n",
        "        print(\"\\r\")\n",
        "\n",
        "    # for downside\n",
        "    for i in range(0,n):\n",
        "        for j in range(0,i+1):\n",
        "            print(\"*\", end =' ')\n",
        "        print(\"\\r\")\n",
        "star_pattern(5)\n",
        "\n"
      ]
    },
    {
      "cell_type": "code",
      "execution_count": null,
      "id": "c014a951",
      "metadata": {
        "colab": {
          "base_uri": "https://localhost:8080/"
        },
        "id": "c014a951",
        "outputId": "c437be31-1b9b-4282-b2dc-fa08669f15e5"
      },
      "outputs": [
        {
          "output_type": "stream",
          "name": "stdout",
          "text": [
            "***** *****\n",
            "****   ****\n",
            "***     ***\n",
            "**       **\n",
            "*         *\n",
            "*         *\n",
            "**       **\n",
            "***     ***\n",
            "****   ****\n",
            "***** *****\n"
          ]
        }
      ],
      "source": [
        "def star_pattern(n):\n",
        "    for i in range(n,0,-1):\n",
        "        for j in range(0,i):\n",
        "            print(\"*\", end='')\n",
        "        for j in range(0,(n-i)*2+1):\n",
        "            print(\" \", end='')\n",
        "        for j in range(0,i):\n",
        "            print(\"*\", end='')\n",
        "        print()\n",
        "\n",
        "\n",
        "    for i in range(1,n+1):\n",
        "        for j in range(0,i):\n",
        "            print(\"*\", end ='')\n",
        "        for j in range(0,(n-i)*2+1):\n",
        "            print(\" \", end='')\n",
        "        for j in range(0,i):\n",
        "            print(\"*\", end='')\n",
        "        print()\n",
        "star_pattern(5)\n"
      ]
    },
    {
      "cell_type": "code",
      "source": [
        "def pat_printing(n):\n",
        "    for i in range(1,n+1):\n",
        "        for j in range(1,i+1):\n",
        "            print(\"*\",end= \" \")\n",
        "        print('\\r')\n",
        "pat_printing(5)"
      ],
      "metadata": {
        "colab": {
          "base_uri": "https://localhost:8080/"
        },
        "id": "2ah9cg06vp09",
        "outputId": "0533536e-7ddf-40c4-9bea-8f34067dd1c0"
      },
      "id": "2ah9cg06vp09",
      "execution_count": null,
      "outputs": [
        {
          "output_type": "stream",
          "name": "stdout",
          "text": [
            "* \r\n",
            "* * \r\n",
            "* * * \r\n",
            "* * * * \r\n",
            "* * * * * \r\n"
          ]
        }
      ]
    },
    {
      "cell_type": "code",
      "source": [
        "def pattern_print(n):\n",
        "    k=1\n",
        "    for i in range(1,n+1):\n",
        "        for j in range(1,k+1):\n",
        "            print(\"*\",end= \" \")\n",
        "        k=k+2\n",
        "        print('\\r')\n",
        "pattern_print(3)"
      ],
      "metadata": {
        "colab": {
          "base_uri": "https://localhost:8080/"
        },
        "id": "psMB2zz7vzY-",
        "outputId": "913c7416-97db-41d1-ee42-8f06d16b1d98"
      },
      "id": "psMB2zz7vzY-",
      "execution_count": null,
      "outputs": [
        {
          "output_type": "stream",
          "name": "stdout",
          "text": [
            "* \r\n",
            "* * * \r\n",
            "* * * * * \r\n"
          ]
        }
      ]
    },
    {
      "cell_type": "code",
      "source": [
        "def pattern(n):\n",
        "    for i in range(0,n):\n",
        "        for j in range(0,n-i-1):\n",
        "            print(end=\" \")\n",
        "        for j in range(0,i+1):\n",
        "            print(\"*\",end=\" \")\n",
        "        print(\"\")\n",
        "\n",
        "pattern(5)"
      ],
      "metadata": {
        "colab": {
          "base_uri": "https://localhost:8080/"
        },
        "id": "pKC5AZKvwDB0",
        "outputId": "0f3efcf3-40b9-4529-f25c-33fde6511cf1"
      },
      "id": "pKC5AZKvwDB0",
      "execution_count": null,
      "outputs": [
        {
          "output_type": "stream",
          "name": "stdout",
          "text": [
            "    * \n",
            "   * * \n",
            "  * * * \n",
            " * * * * \n",
            "* * * * * \n"
          ]
        }
      ]
    },
    {
      "cell_type": "code",
      "source": [
        "def pattern(n):\n",
        "    for i in range(n,0,-1):\n",
        "        for j in range(0,n-i):\n",
        "            print(end=\" \")\n",
        "        for j in range(0,i):\n",
        "            print(\"*\",end=\" \")\n",
        "        print('')\n",
        "pattern(5)"
      ],
      "metadata": {
        "colab": {
          "base_uri": "https://localhost:8080/"
        },
        "id": "Bi4EuZjnwMN5",
        "outputId": "d302b5b6-591a-4a65-c4af-10616171258c"
      },
      "id": "Bi4EuZjnwMN5",
      "execution_count": null,
      "outputs": [
        {
          "output_type": "stream",
          "name": "stdout",
          "text": [
            "* * * * * \n",
            " * * * * \n",
            "  * * * \n",
            "   * * \n",
            "    * \n"
          ]
        }
      ]
    },
    {
      "cell_type": "code",
      "source": [
        "def pattern(n):\n",
        "  # for upper side\n",
        "    for i in range(0,n):\n",
        "        for j in range(0,n-i-1):\n",
        "            print(end=\" \")\n",
        "        for j in range(0,i+1):\n",
        "            print('*',end=' ')\n",
        "        print()\n",
        "    # for lower side\n",
        "    for i in range(n,0,-1):\n",
        "        for j in range(0,n-i):\n",
        "            print(end=\" \")\n",
        "        for j in range(0,i):\n",
        "            print(\"*\",end=' ')\n",
        "        print()\n",
        "pattern(5)\n"
      ],
      "metadata": {
        "colab": {
          "base_uri": "https://localhost:8080/"
        },
        "id": "KD2fELdewS7P",
        "outputId": "0e570e9b-2cac-403c-bb46-720d65bba1bd"
      },
      "id": "KD2fELdewS7P",
      "execution_count": null,
      "outputs": [
        {
          "output_type": "stream",
          "name": "stdout",
          "text": [
            "    * \n",
            "   * * \n",
            "  * * * \n",
            " * * * * \n",
            "* * * * * \n",
            "* * * * * \n",
            " * * * * \n",
            "  * * * \n",
            "   * * \n",
            "    * \n"
          ]
        }
      ]
    },
    {
      "cell_type": "code",
      "source": [
        "def pattern(n):\n",
        "  # for upper side\n",
        "    for i in range(0,n):\n",
        "        for j in range(0,n-i-1):\n",
        "            print(end=\" \")\n",
        "        for j in range(0,i+1):\n",
        "            print('*',end=' ')\n",
        "        print()\n",
        "    # for lower side\n",
        "    for i in range(n-1,0,-1):\n",
        "        for j in range(0,n-i):\n",
        "            print(end=\" \")\n",
        "        for j in range(0,i):\n",
        "            print(\"*\",end=' ')\n",
        "        print()\n",
        "pattern(5)\n"
      ],
      "metadata": {
        "colab": {
          "base_uri": "https://localhost:8080/"
        },
        "id": "2cUif4LGwYcA",
        "outputId": "d329588f-32c2-4b23-8711-237c8d10971d"
      },
      "id": "2cUif4LGwYcA",
      "execution_count": null,
      "outputs": [
        {
          "output_type": "stream",
          "name": "stdout",
          "text": [
            "    * \n",
            "   * * \n",
            "  * * * \n",
            " * * * * \n",
            "* * * * * \n",
            " * * * * \n",
            "  * * * \n",
            "   * * \n",
            "    * \n"
          ]
        }
      ]
    },
    {
      "cell_type": "code",
      "source": [
        "def pattern(n):\n",
        "    # for upper part\n",
        "    for i in range(n+1,0,-1):\n",
        "        for j in range(0,n-i):\n",
        "            print(end=' ')\n",
        "        for j in range(0,i):\n",
        "            print(\"*\",end=' ')\n",
        "        print(\"\")\n",
        "    # for lower part\n",
        "    for i in range(0,n+1):\n",
        "        for j in range(0,n-i-1):\n",
        "            print(end=' ')\n",
        "        for j in range(0,i+1):\n",
        "            print(\"*\",end=' ')\n",
        "        print(\"\")\n",
        "pattern(5)"
      ],
      "metadata": {
        "colab": {
          "base_uri": "https://localhost:8080/"
        },
        "id": "Lc61FI5-zn_k",
        "outputId": "f077f0d9-75cf-44a4-a4a7-d5aa4c4dbe0f"
      },
      "id": "Lc61FI5-zn_k",
      "execution_count": null,
      "outputs": [
        {
          "output_type": "stream",
          "name": "stdout",
          "text": [
            "* * * * * * \n",
            "* * * * * \n",
            " * * * * \n",
            "  * * * \n",
            "   * * \n",
            "    * \n",
            "    * \n",
            "   * * \n",
            "  * * * \n",
            " * * * * \n",
            "* * * * * \n",
            "* * * * * * \n"
          ]
        }
      ]
    },
    {
      "cell_type": "code",
      "source": [
        "\n",
        "def pattern(n):\n",
        "    n=n+1\n",
        "    # for upper part\n",
        "    for i in range(n,0,-1):\n",
        "        for j in range(0,n-i):\n",
        "            print(end=' ')\n",
        "        for j in range(0,i):\n",
        "            print(\"*\",end=' ')\n",
        "        print(\"\")\n",
        "    n=n+1\n",
        "    # for lower part\n",
        "    for i in range(1,n):\n",
        "        for j in range(0,n-i-1):\n",
        "            print(end=' ')\n",
        "        for j in range(0,i):\n",
        "            print(\"*\",end=' ')\n",
        "        print(\"\")\n",
        "pattern(5)"
      ],
      "metadata": {
        "colab": {
          "base_uri": "https://localhost:8080/"
        },
        "id": "pAiBNUUF2BMN",
        "outputId": "84d3e52b-e936-481e-cf3c-caaf2e4a62f6"
      },
      "id": "pAiBNUUF2BMN",
      "execution_count": null,
      "outputs": [
        {
          "output_type": "stream",
          "name": "stdout",
          "text": [
            "* * * * * * \n",
            " * * * * * \n",
            "  * * * * \n",
            "   * * * \n",
            "    * * \n",
            "     * \n",
            "     * \n",
            "    * * \n",
            "   * * * \n",
            "  * * * * \n",
            " * * * * * \n",
            "* * * * * * \n"
          ]
        }
      ]
    },
    {
      "cell_type": "code",
      "source": [
        "def pattern(n):\n",
        "    for i in range(0,n):\n",
        "        for j in range(0,i+1):\n",
        "            print(\"*\", end = ' ')\n",
        "        print()\n",
        "pattern(5)"
      ],
      "metadata": {
        "id": "VbpstpJd2QG8",
        "colab": {
          "base_uri": "https://localhost:8080/"
        },
        "outputId": "1ffa04c3-263e-4dcb-cc87-e018b28531d4"
      },
      "id": "VbpstpJd2QG8",
      "execution_count": null,
      "outputs": [
        {
          "output_type": "stream",
          "name": "stdout",
          "text": [
            "* \n",
            "* * \n",
            "* * * \n",
            "* * * * \n",
            "* * * * * \n"
          ]
        }
      ]
    },
    {
      "cell_type": "code",
      "source": [
        "def pattern(n):\n",
        "    for i in range(n+1,0,-1):\n",
        "        for j in range(0,i-1):\n",
        "            print(\"*\",end=' ')\n",
        "        print()\n",
        "pattern(5)"
      ],
      "metadata": {
        "colab": {
          "base_uri": "https://localhost:8080/"
        },
        "id": "z1BWSKE29Meo",
        "outputId": "3033ec0a-773a-463b-dbca-e997d767c6b2"
      },
      "id": "z1BWSKE29Meo",
      "execution_count": null,
      "outputs": [
        {
          "output_type": "stream",
          "name": "stdout",
          "text": [
            "* * * * * \n",
            "* * * * \n",
            "* * * \n",
            "* * \n",
            "* \n",
            "\n"
          ]
        }
      ]
    },
    {
      "cell_type": "code",
      "source": [
        "def pattern(n):\n",
        "    for i in range(n,0,-1):\n",
        "        for j in range(0,i):\n",
        "            print(\"*\",end=' ')\n",
        "        print()\n",
        "pattern(5)"
      ],
      "metadata": {
        "colab": {
          "base_uri": "https://localhost:8080/"
        },
        "id": "awa_Cud99X3A",
        "outputId": "1ee6652e-bf80-413f-ab02-4a71902e01e1"
      },
      "id": "awa_Cud99X3A",
      "execution_count": null,
      "outputs": [
        {
          "output_type": "stream",
          "name": "stdout",
          "text": [
            "* * * * * \n",
            "* * * * \n",
            "* * * \n",
            "* * \n",
            "* \n"
          ]
        }
      ]
    },
    {
      "cell_type": "code",
      "source": [
        "for i in range(7):\n",
        "    for j in range (5):\n",
        "        if((j==0 or j==4) and i!=0) or ((i==0 or i==3) and (j>0 and j<4)):\n",
        "            print(\"*\", end='')\n",
        "        else:\n",
        "            print(end=' ')\n",
        "    print()"
      ],
      "metadata": {
        "colab": {
          "base_uri": "https://localhost:8080/"
        },
        "id": "jR8KI23heFXm",
        "outputId": "83e3cd4f-b749-43a1-ca03-9dee6669c135"
      },
      "id": "jR8KI23heFXm",
      "execution_count": null,
      "outputs": [
        {
          "output_type": "stream",
          "name": "stdout",
          "text": [
            " *** \n",
            "*   *\n",
            "*   *\n",
            "*****\n",
            "*   *\n",
            "*   *\n",
            "*   *\n"
          ]
        }
      ]
    },
    {
      "cell_type": "code",
      "source": [
        "for i in range(7):\n",
        "    for j in range(5):\n",
        "        if((j==0 or j==4)and i!=4) or ((i==0 or i==3 or i==6) and(j>0 and j<4)):\n",
        "            print(\"*\",end='')\n",
        "        else:\n",
        "            print(end=' ')\n",
        "    print()"
      ],
      "metadata": {
        "colab": {
          "base_uri": "https://localhost:8080/"
        },
        "id": "2gXonmi0k9bs",
        "outputId": "5e61884d-0e3f-429a-f0af-71383d253d39"
      },
      "id": "2gXonmi0k9bs",
      "execution_count": null,
      "outputs": [
        {
          "output_type": "stream",
          "name": "stdout",
          "text": [
            "*****\n",
            "*   *\n",
            "*   *\n",
            "*****\n",
            "     \n",
            "*   *\n",
            "*****\n"
          ]
        }
      ]
    },
    {
      "cell_type": "code",
      "source": [
        "for i in range(7):\n",
        "    for j in range(5):\n",
        "        if(j==0 or (i==0 or i==3 or i==6) and (j!=0 or j!=3 or j!=6)or (j==4 and(i!=0 or i!=3 or i!=6))):\n",
        "            print(\"*\", end='')\n",
        "        else:\n",
        "            print(end=' ')\n",
        "    print()"
      ],
      "metadata": {
        "colab": {
          "base_uri": "https://localhost:8080/"
        },
        "id": "9nQciqqMlWN8",
        "outputId": "bda1097e-7abd-4ba1-a479-07d241322a93"
      },
      "id": "9nQciqqMlWN8",
      "execution_count": null,
      "outputs": [
        {
          "output_type": "stream",
          "name": "stdout",
          "text": [
            "*****\n",
            "*   *\n",
            "*   *\n",
            "*****\n",
            "*   *\n",
            "*   *\n",
            "*****\n"
          ]
        }
      ]
    },
    {
      "cell_type": "code",
      "source": [
        "def pattern(n):\n",
        "    num=1\n",
        "    for i in range(0,n):\n",
        "        for j in range(0,i+1):\n",
        "            print(num, end=' ')\n",
        "            num=num+1\n",
        "        print()\n",
        "pattern(4)"
      ],
      "metadata": {
        "colab": {
          "base_uri": "https://localhost:8080/"
        },
        "id": "OkKs4FtmombN",
        "outputId": "65b454ee-3944-4e1d-acc1-a7979131b714"
      },
      "id": "OkKs4FtmombN",
      "execution_count": null,
      "outputs": [
        {
          "output_type": "stream",
          "name": "stdout",
          "text": [
            "1 \n",
            "2 3 \n",
            "4 5 6 \n",
            "7 8 9 10 \n"
          ]
        }
      ]
    },
    {
      "cell_type": "code",
      "source": [
        "def pattern(n):\n",
        "    num=1\n",
        "    for i in range(n,0,-1):\n",
        "        for j in range(0,i):\n",
        "            print(num,end=' ')\n",
        "            num=num+1\n",
        "        print()\n",
        "pattern(4)"
      ],
      "metadata": {
        "colab": {
          "base_uri": "https://localhost:8080/"
        },
        "id": "6i8ZW5JhotkN",
        "outputId": "2d8d271b-8793-4036-cf12-716f67d84ccd"
      },
      "id": "6i8ZW5JhotkN",
      "execution_count": null,
      "outputs": [
        {
          "output_type": "stream",
          "name": "stdout",
          "text": [
            "1 2 3 4 \n",
            "5 6 7 \n",
            "8 9 \n",
            "10 \n"
          ]
        }
      ]
    },
    {
      "cell_type": "code",
      "source": [
        "string = input(\"Enter the string:\")\n",
        "length= len(string)\n",
        "for i in range(length):\n",
        "    for j in range(i+1):\n",
        "        print(string[j],end=' ')\n",
        "    print()"
      ],
      "metadata": {
        "colab": {
          "base_uri": "https://localhost:8080/"
        },
        "id": "M3xuCYTvqd0p",
        "outputId": "1aa8e7c2-014c-4ddb-b15e-24bc76a9092a"
      },
      "id": "M3xuCYTvqd0p",
      "execution_count": null,
      "outputs": [
        {
          "output_type": "stream",
          "name": "stdout",
          "text": [
            "Enter the string:Rashi\n",
            "R \n",
            "R a \n",
            "R a s \n",
            "R a s h \n",
            "R a s h i \n"
          ]
        }
      ]
    },
    {
      "cell_type": "code",
      "source": [
        "def pattern(n):\n",
        "\n",
        "    for i in range(n,0,-1):\n",
        "        for j in range(1,i+1):\n",
        "            print(j,end='')\n",
        "        print()\n",
        "pattern(4)"
      ],
      "metadata": {
        "id": "YoTEAm5stkTO",
        "outputId": "2fce4cb5-766b-4e96-e926-c0bf05fe32a3",
        "colab": {
          "base_uri": "https://localhost:8080/"
        }
      },
      "id": "YoTEAm5stkTO",
      "execution_count": null,
      "outputs": [
        {
          "output_type": "stream",
          "name": "stdout",
          "text": [
            "1234\n",
            "123\n",
            "12\n",
            "1\n"
          ]
        }
      ]
    },
    {
      "cell_type": "code",
      "source": [
        "def pattern(n):\n",
        "\n",
        "    for i in range(n,0,-1):\n",
        "        for j in range(1,i+1):\n",
        "            print(i,end='')\n",
        "        print()\n",
        "pattern(4)"
      ],
      "metadata": {
        "colab": {
          "base_uri": "https://localhost:8080/"
        },
        "id": "t0SpCcy40bcP",
        "outputId": "d2a6fcd7-1778-41b6-afeb-f4031d1bf062"
      },
      "id": "t0SpCcy40bcP",
      "execution_count": null,
      "outputs": [
        {
          "output_type": "stream",
          "name": "stdout",
          "text": [
            "4444\n",
            "333\n",
            "22\n",
            "1\n"
          ]
        }
      ]
    }
  ],
  "metadata": {
    "kernelspec": {
      "display_name": "Python 3 (ipykernel)",
      "language": "python",
      "name": "python3"
    },
    "language_info": {
      "codemirror_mode": {
        "name": "ipython",
        "version": 3
      },
      "file_extension": ".py",
      "mimetype": "text/x-python",
      "name": "python",
      "nbconvert_exporter": "python",
      "pygments_lexer": "ipython3",
      "version": "3.11.5"
    },
    "colab": {
      "provenance": []
    }
  },
  "nbformat": 4,
  "nbformat_minor": 5
}